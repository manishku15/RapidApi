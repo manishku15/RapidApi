{
 "cells": [
  {
   "cell_type": "markdown",
   "id": "4cfe4de9",
   "metadata": {},
   "source": [
    "### Importing Important Library"
   ]
  },
  {
   "cell_type": "code",
   "execution_count": 1,
   "id": "c811d266",
   "metadata": {},
   "outputs": [],
   "source": [
    "import pandas as pd \n",
    "import numpy as np\n",
    "import seaborn as sns\n",
    "import matplotlib.pyplot as plt\n",
    "import matplotlib_inline\n",
    "from sklearn.model_selection import train_test_split\n",
    "from sklearn.preprocessing import StandardScaler\n",
    "from sklearn.preprocessing import MinMaxScaler\n",
    "from sklearn.linear_model import LinearRegression\n",
    "from sklearn.linear_model import Ridge, Lasso\n",
    "from sklearn.metrics import r2_score\n",
    "from sklearn.ensemble import AdaBoostRegressor\n",
    "from sklearn.model_selection import GridSearchCV\n",
    "from sklearn.svm import SVR\n",
    "from sklearn.metrics import mean_squared_error, mean_absolute_error\n",
    "from sklearn.ensemble import RandomForestRegressor\n",
    "from sklearn.tree import DecisionTreeRegressor"
   ]
  },
  {
   "cell_type": "markdown",
   "id": "6fba8550",
   "metadata": {},
   "source": [
    "### Extracting data from Rapidapi"
   ]
  },
  {
   "cell_type": "code",
   "execution_count": 2,
   "id": "c4c51631",
   "metadata": {},
   "outputs": [],
   "source": [
    "import requests\n",
    "\n",
    "url = \"https://covid-193.p.rapidapi.com/statistics\"\n",
    "\n",
    "headers = {\n",
    "\t\"X-RapidAPI-Key\": \"2558d26ba6msh1c4f695862c1917p1c36bajsnbaf9f82d4dae\",\n",
    "\t\"X-RapidAPI-Host\": \"covid-193.p.rapidapi.com\"\n",
    "}\n",
    "\n",
    "response = requests.get(url, headers=headers)\n",
    "\n",
    "data1=response.json()['response']"
   ]
  },
  {
   "cell_type": "markdown",
   "id": "27806658",
   "metadata": {},
   "source": [
    "#### Converting into dataframe"
   ]
  },
  {
   "cell_type": "code",
   "execution_count": 3,
   "id": "8a18bd89",
   "metadata": {},
   "outputs": [],
   "source": [
    "data=pd.DataFrame(data1)"
   ]
  },
  {
   "cell_type": "markdown",
   "id": "baaffa6d",
   "metadata": {},
   "source": [
    "##### Extracting important features from adata"
   ]
  },
  {
   "cell_type": "code",
   "execution_count": 4,
   "id": "58e10617",
   "metadata": {},
   "outputs": [],
   "source": [
    "new_case=[]\n",
    "active=[]\n",
    "critical=[]\n",
    "recovered=[]\n",
    "OneM_pop=[]\n",
    "total_case=[]\n",
    "\n",
    "for i in range(238):\n",
    "        new_case.append(data1[i]['cases']['new'])\n",
    "        active.append(data1[i]['cases']['active'])\n",
    "        critical.append(data1[i]['cases']['critical'])\n",
    "        recovered.append(data1[i]['cases']['recovered'])\n",
    "        OneM_pop.append(data1[i]['cases']['1M_pop'])\n",
    "        total_case.append(data1[i]['cases']['total'])    "
   ]
  },
  {
   "cell_type": "code",
   "execution_count": 5,
   "id": "53c09997",
   "metadata": {},
   "outputs": [],
   "source": [
    "new_death=[]\n",
    "oneM_pop_death=[]\n",
    "total_death=[]\n",
    "\n",
    "for i in range(238):\n",
    "        new_death.append(data1[i]['deaths']['new'])\n",
    "        oneM_pop_death.append(data1[i]['deaths']['1M_pop'])\n",
    "        total_death.append(data1[i]['deaths']['total'])"
   ]
  },
  {
   "cell_type": "code",
   "execution_count": 6,
   "id": "1fc6138c",
   "metadata": {},
   "outputs": [],
   "source": [
    "oneM_pop_test=[]\n",
    "total_test=[]\n",
    "\n",
    "for i in range(238):\n",
    "        oneM_pop_test.append(data1[i]['tests']['1M_pop'])\n",
    "        total_test.append(data1[i]['tests']['total'])"
   ]
  },
  {
   "cell_type": "code",
   "execution_count": 7,
   "id": "fbf9f30f",
   "metadata": {},
   "outputs": [],
   "source": [
    "df=pd.DataFrame(data1)"
   ]
  },
  {
   "cell_type": "code",
   "execution_count": 8,
   "id": "96ff3091",
   "metadata": {},
   "outputs": [
    {
     "data": {
      "text/html": [
       "<div>\n",
       "<style scoped>\n",
       "    .dataframe tbody tr th:only-of-type {\n",
       "        vertical-align: middle;\n",
       "    }\n",
       "\n",
       "    .dataframe tbody tr th {\n",
       "        vertical-align: top;\n",
       "    }\n",
       "\n",
       "    .dataframe thead th {\n",
       "        text-align: right;\n",
       "    }\n",
       "</style>\n",
       "<table border=\"1\" class=\"dataframe\">\n",
       "  <thead>\n",
       "    <tr style=\"text-align: right;\">\n",
       "      <th></th>\n",
       "      <th>continent</th>\n",
       "      <th>country</th>\n",
       "      <th>population</th>\n",
       "      <th>cases</th>\n",
       "      <th>deaths</th>\n",
       "      <th>tests</th>\n",
       "      <th>day</th>\n",
       "      <th>time</th>\n",
       "    </tr>\n",
       "  </thead>\n",
       "  <tbody>\n",
       "    <tr>\n",
       "      <th>0</th>\n",
       "      <td>North-America</td>\n",
       "      <td>Greenland</td>\n",
       "      <td>56973.0</td>\n",
       "      <td>{'new': None, 'active': 9189, 'critical': 4, '...</td>\n",
       "      <td>{'new': None, '1M_pop': '369', 'total': 21}</td>\n",
       "      <td>{'1M_pop': '2894810', 'total': 164926}</td>\n",
       "      <td>2023-08-13</td>\n",
       "      <td>2023-08-13T01:45:09+00:00</td>\n",
       "    </tr>\n",
       "    <tr>\n",
       "      <th>1</th>\n",
       "      <td>Asia</td>\n",
       "      <td>Yemen</td>\n",
       "      <td>31154867.0</td>\n",
       "      <td>{'new': None, 'active': 662, 'critical': 23, '...</td>\n",
       "      <td>{'new': None, '1M_pop': '69', 'total': 2159}</td>\n",
       "      <td>{'1M_pop': '10579', 'total': 329592}</td>\n",
       "      <td>2023-08-13</td>\n",
       "      <td>2023-08-13T01:45:09+00:00</td>\n",
       "    </tr>\n",
       "    <tr>\n",
       "      <th>2</th>\n",
       "      <td>Africa</td>\n",
       "      <td>Eritrea</td>\n",
       "      <td>3662244.0</td>\n",
       "      <td>{'new': None, 'active': 0, 'critical': None, '...</td>\n",
       "      <td>{'new': None, '1M_pop': '28', 'total': 103}</td>\n",
       "      <td>{'1M_pop': '6470', 'total': 23693}</td>\n",
       "      <td>2023-08-13</td>\n",
       "      <td>2023-08-13T01:45:09+00:00</td>\n",
       "    </tr>\n",
       "    <tr>\n",
       "      <th>3</th>\n",
       "      <td>Africa</td>\n",
       "      <td>Niger</td>\n",
       "      <td>26083660.0</td>\n",
       "      <td>{'new': None, 'active': 729, 'critical': 1, 'r...</td>\n",
       "      <td>{'new': None, '1M_pop': '12', 'total': 312}</td>\n",
       "      <td>{'1M_pop': '9759', 'total': 254538}</td>\n",
       "      <td>2023-08-13</td>\n",
       "      <td>2023-08-13T01:45:09+00:00</td>\n",
       "    </tr>\n",
       "    <tr>\n",
       "      <th>4</th>\n",
       "      <td>North-America</td>\n",
       "      <td>Antigua-and-Barbuda</td>\n",
       "      <td>99509.0</td>\n",
       "      <td>{'new': None, 'active': 6, 'critical': 1, 'rec...</td>\n",
       "      <td>{'new': None, '1M_pop': '1467', 'total': 146}</td>\n",
       "      <td>{'1M_pop': '189943', 'total': 18901}</td>\n",
       "      <td>2023-08-13</td>\n",
       "      <td>2023-08-13T01:45:09+00:00</td>\n",
       "    </tr>\n",
       "  </tbody>\n",
       "</table>\n",
       "</div>"
      ],
      "text/plain": [
       "       continent              country  population  \\\n",
       "0  North-America            Greenland     56973.0   \n",
       "1           Asia                Yemen  31154867.0   \n",
       "2         Africa              Eritrea   3662244.0   \n",
       "3         Africa                Niger  26083660.0   \n",
       "4  North-America  Antigua-and-Barbuda     99509.0   \n",
       "\n",
       "                                               cases  \\\n",
       "0  {'new': None, 'active': 9189, 'critical': 4, '...   \n",
       "1  {'new': None, 'active': 662, 'critical': 23, '...   \n",
       "2  {'new': None, 'active': 0, 'critical': None, '...   \n",
       "3  {'new': None, 'active': 729, 'critical': 1, 'r...   \n",
       "4  {'new': None, 'active': 6, 'critical': 1, 'rec...   \n",
       "\n",
       "                                          deaths  \\\n",
       "0    {'new': None, '1M_pop': '369', 'total': 21}   \n",
       "1   {'new': None, '1M_pop': '69', 'total': 2159}   \n",
       "2    {'new': None, '1M_pop': '28', 'total': 103}   \n",
       "3    {'new': None, '1M_pop': '12', 'total': 312}   \n",
       "4  {'new': None, '1M_pop': '1467', 'total': 146}   \n",
       "\n",
       "                                    tests         day  \\\n",
       "0  {'1M_pop': '2894810', 'total': 164926}  2023-08-13   \n",
       "1    {'1M_pop': '10579', 'total': 329592}  2023-08-13   \n",
       "2      {'1M_pop': '6470', 'total': 23693}  2023-08-13   \n",
       "3     {'1M_pop': '9759', 'total': 254538}  2023-08-13   \n",
       "4    {'1M_pop': '189943', 'total': 18901}  2023-08-13   \n",
       "\n",
       "                        time  \n",
       "0  2023-08-13T01:45:09+00:00  \n",
       "1  2023-08-13T01:45:09+00:00  \n",
       "2  2023-08-13T01:45:09+00:00  \n",
       "3  2023-08-13T01:45:09+00:00  \n",
       "4  2023-08-13T01:45:09+00:00  "
      ]
     },
     "execution_count": 8,
     "metadata": {},
     "output_type": "execute_result"
    }
   ],
   "source": [
    "df.head()"
   ]
  },
  {
   "cell_type": "code",
   "execution_count": 9,
   "id": "b835161b",
   "metadata": {},
   "outputs": [],
   "source": [
    "df['new_case'],df['active'],df['critical'],df['recovered'],df['OneM_pop'],df['total_case']=new_case,active,critical,recovered,OneM_pop,total_case"
   ]
  },
  {
   "cell_type": "code",
   "execution_count": 10,
   "id": "7f32eff6",
   "metadata": {},
   "outputs": [],
   "source": [
    "df['new_death'],df['oneM_pop_death'],df['total_death']=new_death,oneM_pop_death,total_death"
   ]
  },
  {
   "cell_type": "code",
   "execution_count": 11,
   "id": "287ad2c2",
   "metadata": {},
   "outputs": [],
   "source": [
    "df['oneM_pop_test'],df['total_test']=oneM_pop_test,total_test"
   ]
  },
  {
   "cell_type": "code",
   "execution_count": 12,
   "id": "bf9409a8",
   "metadata": {},
   "outputs": [],
   "source": [
    "df.drop(columns=['cases','deaths','tests'], inplace=True)"
   ]
  },
  {
   "cell_type": "code",
   "execution_count": 13,
   "id": "7addc260",
   "metadata": {},
   "outputs": [],
   "source": [
    "df['day']= pd.to_datetime(df['day'])"
   ]
  },
  {
   "cell_type": "code",
   "execution_count": 14,
   "id": "e6b2a356",
   "metadata": {},
   "outputs": [],
   "source": [
    "df['time']=pd.to_datetime(df['time'])"
   ]
  },
  {
   "cell_type": "code",
   "execution_count": 15,
   "id": "4bdde4f5",
   "metadata": {
    "scrolled": true
   },
   "outputs": [
    {
     "name": "stdout",
     "output_type": "stream",
     "text": [
      "<class 'pandas.core.frame.DataFrame'>\n",
      "RangeIndex: 238 entries, 0 to 237\n",
      "Data columns (total 16 columns):\n",
      " #   Column          Non-Null Count  Dtype              \n",
      "---  ------          --------------  -----              \n",
      " 0   continent       236 non-null    object             \n",
      " 1   country         238 non-null    object             \n",
      " 2   population      229 non-null    float64            \n",
      " 3   day             238 non-null    datetime64[ns]     \n",
      " 4   time            238 non-null    datetime64[ns, UTC]\n",
      " 5   new_case        103 non-null    object             \n",
      " 6   active          218 non-null    float64            \n",
      " 7   critical        126 non-null    float64            \n",
      " 8   recovered       216 non-null    float64            \n",
      " 9   OneM_pop        230 non-null    object             \n",
      " 10  total_case      238 non-null    int64              \n",
      " 11  new_death       30 non-null     object             \n",
      " 12  oneM_pop_death  225 non-null    object             \n",
      " 13  total_death     233 non-null    float64            \n",
      " 14  oneM_pop_test   213 non-null    object             \n",
      " 15  total_test      213 non-null    float64            \n",
      "dtypes: datetime64[ns, UTC](1), datetime64[ns](1), float64(6), int64(1), object(7)\n",
      "memory usage: 29.9+ KB\n"
     ]
    }
   ],
   "source": [
    "df.info()"
   ]
  },
  {
   "cell_type": "markdown",
   "id": "175619f4",
   "metadata": {},
   "source": [
    "##### Checking Null values"
   ]
  },
  {
   "cell_type": "code",
   "execution_count": 16,
   "id": "81e5a39f",
   "metadata": {},
   "outputs": [
    {
     "data": {
      "text/plain": [
       "continent           2\n",
       "country             0\n",
       "population          9\n",
       "day                 0\n",
       "time                0\n",
       "new_case          135\n",
       "active             20\n",
       "critical          112\n",
       "recovered          22\n",
       "OneM_pop            8\n",
       "total_case          0\n",
       "new_death         208\n",
       "oneM_pop_death     13\n",
       "total_death         5\n",
       "oneM_pop_test      25\n",
       "total_test         25\n",
       "dtype: int64"
      ]
     },
     "execution_count": 16,
     "metadata": {},
     "output_type": "execute_result"
    }
   ],
   "source": [
    "df.isnull().sum()"
   ]
  },
  {
   "cell_type": "code",
   "execution_count": 17,
   "id": "ec36f289",
   "metadata": {},
   "outputs": [],
   "source": [
    "df.fillna(0,inplace=True)"
   ]
  },
  {
   "cell_type": "markdown",
   "id": "93569616",
   "metadata": {},
   "source": [
    "##### After droping null values, now i dont have any null values"
   ]
  },
  {
   "cell_type": "code",
   "execution_count": 18,
   "id": "b59a0122",
   "metadata": {},
   "outputs": [
    {
     "data": {
      "text/plain": [
       "continent         0\n",
       "country           0\n",
       "population        0\n",
       "day               0\n",
       "time              0\n",
       "new_case          0\n",
       "active            0\n",
       "critical          0\n",
       "recovered         0\n",
       "OneM_pop          0\n",
       "total_case        0\n",
       "new_death         0\n",
       "oneM_pop_death    0\n",
       "total_death       0\n",
       "oneM_pop_test     0\n",
       "total_test        0\n",
       "dtype: int64"
      ]
     },
     "execution_count": 18,
     "metadata": {},
     "output_type": "execute_result"
    }
   ],
   "source": [
    "df.isnull().sum()"
   ]
  },
  {
   "cell_type": "code",
   "execution_count": 19,
   "id": "a7fa5356",
   "metadata": {},
   "outputs": [
    {
     "data": {
      "text/html": [
       "<div>\n",
       "<style scoped>\n",
       "    .dataframe tbody tr th:only-of-type {\n",
       "        vertical-align: middle;\n",
       "    }\n",
       "\n",
       "    .dataframe tbody tr th {\n",
       "        vertical-align: top;\n",
       "    }\n",
       "\n",
       "    .dataframe thead th {\n",
       "        text-align: right;\n",
       "    }\n",
       "</style>\n",
       "<table border=\"1\" class=\"dataframe\">\n",
       "  <thead>\n",
       "    <tr style=\"text-align: right;\">\n",
       "      <th></th>\n",
       "      <th>continent</th>\n",
       "      <th>country</th>\n",
       "      <th>population</th>\n",
       "      <th>day</th>\n",
       "      <th>time</th>\n",
       "      <th>new_case</th>\n",
       "      <th>active</th>\n",
       "      <th>critical</th>\n",
       "      <th>recovered</th>\n",
       "      <th>OneM_pop</th>\n",
       "      <th>total_case</th>\n",
       "      <th>new_death</th>\n",
       "      <th>oneM_pop_death</th>\n",
       "      <th>total_death</th>\n",
       "      <th>oneM_pop_test</th>\n",
       "      <th>total_test</th>\n",
       "    </tr>\n",
       "  </thead>\n",
       "  <tbody>\n",
       "    <tr>\n",
       "      <th>0</th>\n",
       "      <td>North-America</td>\n",
       "      <td>Greenland</td>\n",
       "      <td>56973.0</td>\n",
       "      <td>2023-08-13</td>\n",
       "      <td>2023-08-13 01:45:09+00:00</td>\n",
       "      <td>0</td>\n",
       "      <td>9189.0</td>\n",
       "      <td>4.0</td>\n",
       "      <td>2761.0</td>\n",
       "      <td>210117</td>\n",
       "      <td>11971</td>\n",
       "      <td>0</td>\n",
       "      <td>369</td>\n",
       "      <td>21.0</td>\n",
       "      <td>2894810</td>\n",
       "      <td>164926.0</td>\n",
       "    </tr>\n",
       "    <tr>\n",
       "      <th>1</th>\n",
       "      <td>Asia</td>\n",
       "      <td>Yemen</td>\n",
       "      <td>31154867.0</td>\n",
       "      <td>2023-08-13</td>\n",
       "      <td>2023-08-13 01:45:09+00:00</td>\n",
       "      <td>0</td>\n",
       "      <td>662.0</td>\n",
       "      <td>23.0</td>\n",
       "      <td>9124.0</td>\n",
       "      <td>383</td>\n",
       "      <td>11945</td>\n",
       "      <td>0</td>\n",
       "      <td>69</td>\n",
       "      <td>2159.0</td>\n",
       "      <td>10579</td>\n",
       "      <td>329592.0</td>\n",
       "    </tr>\n",
       "    <tr>\n",
       "      <th>2</th>\n",
       "      <td>Africa</td>\n",
       "      <td>Eritrea</td>\n",
       "      <td>3662244.0</td>\n",
       "      <td>2023-08-13</td>\n",
       "      <td>2023-08-13 01:45:09+00:00</td>\n",
       "      <td>0</td>\n",
       "      <td>0.0</td>\n",
       "      <td>0.0</td>\n",
       "      <td>10086.0</td>\n",
       "      <td>2782</td>\n",
       "      <td>10189</td>\n",
       "      <td>0</td>\n",
       "      <td>28</td>\n",
       "      <td>103.0</td>\n",
       "      <td>6470</td>\n",
       "      <td>23693.0</td>\n",
       "    </tr>\n",
       "    <tr>\n",
       "      <th>3</th>\n",
       "      <td>Africa</td>\n",
       "      <td>Niger</td>\n",
       "      <td>26083660.0</td>\n",
       "      <td>2023-08-13</td>\n",
       "      <td>2023-08-13 01:45:09+00:00</td>\n",
       "      <td>0</td>\n",
       "      <td>729.0</td>\n",
       "      <td>1.0</td>\n",
       "      <td>8890.0</td>\n",
       "      <td>381</td>\n",
       "      <td>9931</td>\n",
       "      <td>0</td>\n",
       "      <td>12</td>\n",
       "      <td>312.0</td>\n",
       "      <td>9759</td>\n",
       "      <td>254538.0</td>\n",
       "    </tr>\n",
       "    <tr>\n",
       "      <th>4</th>\n",
       "      <td>North-America</td>\n",
       "      <td>Antigua-and-Barbuda</td>\n",
       "      <td>99509.0</td>\n",
       "      <td>2023-08-13</td>\n",
       "      <td>2023-08-13 01:45:09+00:00</td>\n",
       "      <td>0</td>\n",
       "      <td>6.0</td>\n",
       "      <td>1.0</td>\n",
       "      <td>8954.0</td>\n",
       "      <td>91509</td>\n",
       "      <td>9106</td>\n",
       "      <td>0</td>\n",
       "      <td>1467</td>\n",
       "      <td>146.0</td>\n",
       "      <td>189943</td>\n",
       "      <td>18901.0</td>\n",
       "    </tr>\n",
       "    <tr>\n",
       "      <th>...</th>\n",
       "      <td>...</td>\n",
       "      <td>...</td>\n",
       "      <td>...</td>\n",
       "      <td>...</td>\n",
       "      <td>...</td>\n",
       "      <td>...</td>\n",
       "      <td>...</td>\n",
       "      <td>...</td>\n",
       "      <td>...</td>\n",
       "      <td>...</td>\n",
       "      <td>...</td>\n",
       "      <td>...</td>\n",
       "      <td>...</td>\n",
       "      <td>...</td>\n",
       "      <td>...</td>\n",
       "      <td>...</td>\n",
       "    </tr>\n",
       "    <tr>\n",
       "      <th>233</th>\n",
       "      <td>Asia</td>\n",
       "      <td>Asia</td>\n",
       "      <td>0.0</td>\n",
       "      <td>2023-08-13</td>\n",
       "      <td>2023-08-13 01:45:06+00:00</td>\n",
       "      <td>+1</td>\n",
       "      <td>15122480.0</td>\n",
       "      <td>15138.0</td>\n",
       "      <td>202966919.0</td>\n",
       "      <td>0</td>\n",
       "      <td>219637921</td>\n",
       "      <td>0</td>\n",
       "      <td>0</td>\n",
       "      <td>1548522.0</td>\n",
       "      <td>0</td>\n",
       "      <td>0.0</td>\n",
       "    </tr>\n",
       "    <tr>\n",
       "      <th>234</th>\n",
       "      <td>Europe</td>\n",
       "      <td>Europe</td>\n",
       "      <td>0.0</td>\n",
       "      <td>2023-08-13</td>\n",
       "      <td>2023-08-13 01:45:06+00:00</td>\n",
       "      <td>0</td>\n",
       "      <td>1785330.0</td>\n",
       "      <td>5443.0</td>\n",
       "      <td>245914080.0</td>\n",
       "      <td>0</td>\n",
       "      <td>249768472</td>\n",
       "      <td>0</td>\n",
       "      <td>0</td>\n",
       "      <td>2069062.0</td>\n",
       "      <td>0</td>\n",
       "      <td>0.0</td>\n",
       "    </tr>\n",
       "    <tr>\n",
       "      <th>235</th>\n",
       "      <td>All</td>\n",
       "      <td>All</td>\n",
       "      <td>0.0</td>\n",
       "      <td>2023-08-13</td>\n",
       "      <td>2023-08-13 01:45:06+00:00</td>\n",
       "      <td>+1</td>\n",
       "      <td>21027453.0</td>\n",
       "      <td>37335.0</td>\n",
       "      <td>665251771.0</td>\n",
       "      <td>88929</td>\n",
       "      <td>693186371</td>\n",
       "      <td>0</td>\n",
       "      <td>886.1</td>\n",
       "      <td>6907147.0</td>\n",
       "      <td>0</td>\n",
       "      <td>0.0</td>\n",
       "    </tr>\n",
       "    <tr>\n",
       "      <th>236</th>\n",
       "      <td>Asia</td>\n",
       "      <td>S-Korea</td>\n",
       "      <td>51329899.0</td>\n",
       "      <td>2023-08-13</td>\n",
       "      <td>2023-08-13 01:45:06+00:00</td>\n",
       "      <td>0</td>\n",
       "      <td>563350.0</td>\n",
       "      <td>185.0</td>\n",
       "      <td>32955713.0</td>\n",
       "      <td>653702</td>\n",
       "      <td>33554474</td>\n",
       "      <td>0</td>\n",
       "      <td>690</td>\n",
       "      <td>35411.0</td>\n",
       "      <td>307892</td>\n",
       "      <td>15804065.0</td>\n",
       "    </tr>\n",
       "    <tr>\n",
       "      <th>237</th>\n",
       "      <td>Europe</td>\n",
       "      <td>UK</td>\n",
       "      <td>68497907.0</td>\n",
       "      <td>2023-08-13</td>\n",
       "      <td>2023-08-13 01:45:06+00:00</td>\n",
       "      <td>0</td>\n",
       "      <td>10133.0</td>\n",
       "      <td>0.0</td>\n",
       "      <td>24418239.0</td>\n",
       "      <td>359966</td>\n",
       "      <td>24656914</td>\n",
       "      <td>0</td>\n",
       "      <td>3336</td>\n",
       "      <td>228542.0</td>\n",
       "      <td>7628357</td>\n",
       "      <td>522526476.0</td>\n",
       "    </tr>\n",
       "  </tbody>\n",
       "</table>\n",
       "<p>238 rows × 16 columns</p>\n",
       "</div>"
      ],
      "text/plain": [
       "         continent              country  population        day  \\\n",
       "0    North-America            Greenland     56973.0 2023-08-13   \n",
       "1             Asia                Yemen  31154867.0 2023-08-13   \n",
       "2           Africa              Eritrea   3662244.0 2023-08-13   \n",
       "3           Africa                Niger  26083660.0 2023-08-13   \n",
       "4    North-America  Antigua-and-Barbuda     99509.0 2023-08-13   \n",
       "..             ...                  ...         ...        ...   \n",
       "233           Asia                 Asia         0.0 2023-08-13   \n",
       "234         Europe               Europe         0.0 2023-08-13   \n",
       "235            All                  All         0.0 2023-08-13   \n",
       "236           Asia              S-Korea  51329899.0 2023-08-13   \n",
       "237         Europe                   UK  68497907.0 2023-08-13   \n",
       "\n",
       "                         time new_case      active  critical    recovered  \\\n",
       "0   2023-08-13 01:45:09+00:00        0      9189.0       4.0       2761.0   \n",
       "1   2023-08-13 01:45:09+00:00        0       662.0      23.0       9124.0   \n",
       "2   2023-08-13 01:45:09+00:00        0         0.0       0.0      10086.0   \n",
       "3   2023-08-13 01:45:09+00:00        0       729.0       1.0       8890.0   \n",
       "4   2023-08-13 01:45:09+00:00        0         6.0       1.0       8954.0   \n",
       "..                        ...      ...         ...       ...          ...   \n",
       "233 2023-08-13 01:45:06+00:00       +1  15122480.0   15138.0  202966919.0   \n",
       "234 2023-08-13 01:45:06+00:00        0   1785330.0    5443.0  245914080.0   \n",
       "235 2023-08-13 01:45:06+00:00       +1  21027453.0   37335.0  665251771.0   \n",
       "236 2023-08-13 01:45:06+00:00        0    563350.0     185.0   32955713.0   \n",
       "237 2023-08-13 01:45:06+00:00        0     10133.0       0.0   24418239.0   \n",
       "\n",
       "    OneM_pop  total_case new_death oneM_pop_death  total_death oneM_pop_test  \\\n",
       "0     210117       11971         0            369         21.0       2894810   \n",
       "1        383       11945         0             69       2159.0         10579   \n",
       "2       2782       10189         0             28        103.0          6470   \n",
       "3        381        9931         0             12        312.0          9759   \n",
       "4      91509        9106         0           1467        146.0        189943   \n",
       "..       ...         ...       ...            ...          ...           ...   \n",
       "233        0   219637921         0              0    1548522.0             0   \n",
       "234        0   249768472         0              0    2069062.0             0   \n",
       "235    88929   693186371         0          886.1    6907147.0             0   \n",
       "236   653702    33554474         0            690      35411.0        307892   \n",
       "237   359966    24656914         0           3336     228542.0       7628357   \n",
       "\n",
       "      total_test  \n",
       "0       164926.0  \n",
       "1       329592.0  \n",
       "2        23693.0  \n",
       "3       254538.0  \n",
       "4        18901.0  \n",
       "..           ...  \n",
       "233          0.0  \n",
       "234          0.0  \n",
       "235          0.0  \n",
       "236   15804065.0  \n",
       "237  522526476.0  \n",
       "\n",
       "[238 rows x 16 columns]"
      ]
     },
     "execution_count": 19,
     "metadata": {},
     "output_type": "execute_result"
    }
   ],
   "source": [
    "df"
   ]
  },
  {
   "cell_type": "code",
   "execution_count": 20,
   "id": "9051836b",
   "metadata": {},
   "outputs": [],
   "source": [
    "df.drop(237, inplace=True)"
   ]
  },
  {
   "cell_type": "code",
   "execution_count": 21,
   "id": "b50b3095",
   "metadata": {},
   "outputs": [],
   "source": [
    "df[['new_case','OneM_pop','new_death','oneM_pop_death','oneM_pop_test']]=df[['new_case','OneM_pop','new_death','oneM_pop_death','oneM_pop_test']].astype('float')"
   ]
  },
  {
   "cell_type": "code",
   "execution_count": 22,
   "id": "4bd475e1",
   "metadata": {},
   "outputs": [
    {
     "data": {
      "text/html": [
       "<div>\n",
       "<style scoped>\n",
       "    .dataframe tbody tr th:only-of-type {\n",
       "        vertical-align: middle;\n",
       "    }\n",
       "\n",
       "    .dataframe tbody tr th {\n",
       "        vertical-align: top;\n",
       "    }\n",
       "\n",
       "    .dataframe thead th {\n",
       "        text-align: right;\n",
       "    }\n",
       "</style>\n",
       "<table border=\"1\" class=\"dataframe\">\n",
       "  <thead>\n",
       "    <tr style=\"text-align: right;\">\n",
       "      <th></th>\n",
       "      <th>continent</th>\n",
       "      <th>country</th>\n",
       "      <th>population</th>\n",
       "      <th>day</th>\n",
       "      <th>time</th>\n",
       "      <th>new_case</th>\n",
       "      <th>active</th>\n",
       "      <th>critical</th>\n",
       "      <th>recovered</th>\n",
       "      <th>OneM_pop</th>\n",
       "      <th>total_case</th>\n",
       "      <th>new_death</th>\n",
       "      <th>oneM_pop_death</th>\n",
       "      <th>total_death</th>\n",
       "      <th>oneM_pop_test</th>\n",
       "      <th>total_test</th>\n",
       "    </tr>\n",
       "  </thead>\n",
       "  <tbody>\n",
       "    <tr>\n",
       "      <th>0</th>\n",
       "      <td>North-America</td>\n",
       "      <td>Greenland</td>\n",
       "      <td>56973.0</td>\n",
       "      <td>2023-08-13</td>\n",
       "      <td>2023-08-13 01:45:09+00:00</td>\n",
       "      <td>0.0</td>\n",
       "      <td>9189.0</td>\n",
       "      <td>4.0</td>\n",
       "      <td>2761.0</td>\n",
       "      <td>210117.0</td>\n",
       "      <td>11971</td>\n",
       "      <td>0.0</td>\n",
       "      <td>369.0</td>\n",
       "      <td>21.0</td>\n",
       "      <td>2894810.0</td>\n",
       "      <td>164926.0</td>\n",
       "    </tr>\n",
       "    <tr>\n",
       "      <th>1</th>\n",
       "      <td>Asia</td>\n",
       "      <td>Yemen</td>\n",
       "      <td>31154867.0</td>\n",
       "      <td>2023-08-13</td>\n",
       "      <td>2023-08-13 01:45:09+00:00</td>\n",
       "      <td>0.0</td>\n",
       "      <td>662.0</td>\n",
       "      <td>23.0</td>\n",
       "      <td>9124.0</td>\n",
       "      <td>383.0</td>\n",
       "      <td>11945</td>\n",
       "      <td>0.0</td>\n",
       "      <td>69.0</td>\n",
       "      <td>2159.0</td>\n",
       "      <td>10579.0</td>\n",
       "      <td>329592.0</td>\n",
       "    </tr>\n",
       "    <tr>\n",
       "      <th>2</th>\n",
       "      <td>Africa</td>\n",
       "      <td>Eritrea</td>\n",
       "      <td>3662244.0</td>\n",
       "      <td>2023-08-13</td>\n",
       "      <td>2023-08-13 01:45:09+00:00</td>\n",
       "      <td>0.0</td>\n",
       "      <td>0.0</td>\n",
       "      <td>0.0</td>\n",
       "      <td>10086.0</td>\n",
       "      <td>2782.0</td>\n",
       "      <td>10189</td>\n",
       "      <td>0.0</td>\n",
       "      <td>28.0</td>\n",
       "      <td>103.0</td>\n",
       "      <td>6470.0</td>\n",
       "      <td>23693.0</td>\n",
       "    </tr>\n",
       "    <tr>\n",
       "      <th>3</th>\n",
       "      <td>Africa</td>\n",
       "      <td>Niger</td>\n",
       "      <td>26083660.0</td>\n",
       "      <td>2023-08-13</td>\n",
       "      <td>2023-08-13 01:45:09+00:00</td>\n",
       "      <td>0.0</td>\n",
       "      <td>729.0</td>\n",
       "      <td>1.0</td>\n",
       "      <td>8890.0</td>\n",
       "      <td>381.0</td>\n",
       "      <td>9931</td>\n",
       "      <td>0.0</td>\n",
       "      <td>12.0</td>\n",
       "      <td>312.0</td>\n",
       "      <td>9759.0</td>\n",
       "      <td>254538.0</td>\n",
       "    </tr>\n",
       "    <tr>\n",
       "      <th>4</th>\n",
       "      <td>North-America</td>\n",
       "      <td>Antigua-and-Barbuda</td>\n",
       "      <td>99509.0</td>\n",
       "      <td>2023-08-13</td>\n",
       "      <td>2023-08-13 01:45:09+00:00</td>\n",
       "      <td>0.0</td>\n",
       "      <td>6.0</td>\n",
       "      <td>1.0</td>\n",
       "      <td>8954.0</td>\n",
       "      <td>91509.0</td>\n",
       "      <td>9106</td>\n",
       "      <td>0.0</td>\n",
       "      <td>1467.0</td>\n",
       "      <td>146.0</td>\n",
       "      <td>189943.0</td>\n",
       "      <td>18901.0</td>\n",
       "    </tr>\n",
       "    <tr>\n",
       "      <th>...</th>\n",
       "      <td>...</td>\n",
       "      <td>...</td>\n",
       "      <td>...</td>\n",
       "      <td>...</td>\n",
       "      <td>...</td>\n",
       "      <td>...</td>\n",
       "      <td>...</td>\n",
       "      <td>...</td>\n",
       "      <td>...</td>\n",
       "      <td>...</td>\n",
       "      <td>...</td>\n",
       "      <td>...</td>\n",
       "      <td>...</td>\n",
       "      <td>...</td>\n",
       "      <td>...</td>\n",
       "      <td>...</td>\n",
       "    </tr>\n",
       "    <tr>\n",
       "      <th>232</th>\n",
       "      <td>North-America</td>\n",
       "      <td>North-America</td>\n",
       "      <td>0.0</td>\n",
       "      <td>2023-08-13</td>\n",
       "      <td>2023-08-13 01:45:06+00:00</td>\n",
       "      <td>0.0</td>\n",
       "      <td>2471025.0</td>\n",
       "      <td>6046.0</td>\n",
       "      <td>123313971.0</td>\n",
       "      <td>0.0</td>\n",
       "      <td>127426465</td>\n",
       "      <td>0.0</td>\n",
       "      <td>0.0</td>\n",
       "      <td>1641469.0</td>\n",
       "      <td>0.0</td>\n",
       "      <td>0.0</td>\n",
       "    </tr>\n",
       "    <tr>\n",
       "      <th>233</th>\n",
       "      <td>Asia</td>\n",
       "      <td>Asia</td>\n",
       "      <td>0.0</td>\n",
       "      <td>2023-08-13</td>\n",
       "      <td>2023-08-13 01:45:06+00:00</td>\n",
       "      <td>1.0</td>\n",
       "      <td>15122480.0</td>\n",
       "      <td>15138.0</td>\n",
       "      <td>202966919.0</td>\n",
       "      <td>0.0</td>\n",
       "      <td>219637921</td>\n",
       "      <td>0.0</td>\n",
       "      <td>0.0</td>\n",
       "      <td>1548522.0</td>\n",
       "      <td>0.0</td>\n",
       "      <td>0.0</td>\n",
       "    </tr>\n",
       "    <tr>\n",
       "      <th>234</th>\n",
       "      <td>Europe</td>\n",
       "      <td>Europe</td>\n",
       "      <td>0.0</td>\n",
       "      <td>2023-08-13</td>\n",
       "      <td>2023-08-13 01:45:06+00:00</td>\n",
       "      <td>0.0</td>\n",
       "      <td>1785330.0</td>\n",
       "      <td>5443.0</td>\n",
       "      <td>245914080.0</td>\n",
       "      <td>0.0</td>\n",
       "      <td>249768472</td>\n",
       "      <td>0.0</td>\n",
       "      <td>0.0</td>\n",
       "      <td>2069062.0</td>\n",
       "      <td>0.0</td>\n",
       "      <td>0.0</td>\n",
       "    </tr>\n",
       "    <tr>\n",
       "      <th>235</th>\n",
       "      <td>All</td>\n",
       "      <td>All</td>\n",
       "      <td>0.0</td>\n",
       "      <td>2023-08-13</td>\n",
       "      <td>2023-08-13 01:45:06+00:00</td>\n",
       "      <td>1.0</td>\n",
       "      <td>21027453.0</td>\n",
       "      <td>37335.0</td>\n",
       "      <td>665251771.0</td>\n",
       "      <td>88929.0</td>\n",
       "      <td>693186371</td>\n",
       "      <td>0.0</td>\n",
       "      <td>886.1</td>\n",
       "      <td>6907147.0</td>\n",
       "      <td>0.0</td>\n",
       "      <td>0.0</td>\n",
       "    </tr>\n",
       "    <tr>\n",
       "      <th>236</th>\n",
       "      <td>Asia</td>\n",
       "      <td>S-Korea</td>\n",
       "      <td>51329899.0</td>\n",
       "      <td>2023-08-13</td>\n",
       "      <td>2023-08-13 01:45:06+00:00</td>\n",
       "      <td>0.0</td>\n",
       "      <td>563350.0</td>\n",
       "      <td>185.0</td>\n",
       "      <td>32955713.0</td>\n",
       "      <td>653702.0</td>\n",
       "      <td>33554474</td>\n",
       "      <td>0.0</td>\n",
       "      <td>690.0</td>\n",
       "      <td>35411.0</td>\n",
       "      <td>307892.0</td>\n",
       "      <td>15804065.0</td>\n",
       "    </tr>\n",
       "  </tbody>\n",
       "</table>\n",
       "<p>237 rows × 16 columns</p>\n",
       "</div>"
      ],
      "text/plain": [
       "         continent              country  population        day  \\\n",
       "0    North-America            Greenland     56973.0 2023-08-13   \n",
       "1             Asia                Yemen  31154867.0 2023-08-13   \n",
       "2           Africa              Eritrea   3662244.0 2023-08-13   \n",
       "3           Africa                Niger  26083660.0 2023-08-13   \n",
       "4    North-America  Antigua-and-Barbuda     99509.0 2023-08-13   \n",
       "..             ...                  ...         ...        ...   \n",
       "232  North-America        North-America         0.0 2023-08-13   \n",
       "233           Asia                 Asia         0.0 2023-08-13   \n",
       "234         Europe               Europe         0.0 2023-08-13   \n",
       "235            All                  All         0.0 2023-08-13   \n",
       "236           Asia              S-Korea  51329899.0 2023-08-13   \n",
       "\n",
       "                         time  new_case      active  critical    recovered  \\\n",
       "0   2023-08-13 01:45:09+00:00       0.0      9189.0       4.0       2761.0   \n",
       "1   2023-08-13 01:45:09+00:00       0.0       662.0      23.0       9124.0   \n",
       "2   2023-08-13 01:45:09+00:00       0.0         0.0       0.0      10086.0   \n",
       "3   2023-08-13 01:45:09+00:00       0.0       729.0       1.0       8890.0   \n",
       "4   2023-08-13 01:45:09+00:00       0.0         6.0       1.0       8954.0   \n",
       "..                        ...       ...         ...       ...          ...   \n",
       "232 2023-08-13 01:45:06+00:00       0.0   2471025.0    6046.0  123313971.0   \n",
       "233 2023-08-13 01:45:06+00:00       1.0  15122480.0   15138.0  202966919.0   \n",
       "234 2023-08-13 01:45:06+00:00       0.0   1785330.0    5443.0  245914080.0   \n",
       "235 2023-08-13 01:45:06+00:00       1.0  21027453.0   37335.0  665251771.0   \n",
       "236 2023-08-13 01:45:06+00:00       0.0    563350.0     185.0   32955713.0   \n",
       "\n",
       "     OneM_pop  total_case  new_death  oneM_pop_death  total_death  \\\n",
       "0    210117.0       11971        0.0           369.0         21.0   \n",
       "1       383.0       11945        0.0            69.0       2159.0   \n",
       "2      2782.0       10189        0.0            28.0        103.0   \n",
       "3       381.0        9931        0.0            12.0        312.0   \n",
       "4     91509.0        9106        0.0          1467.0        146.0   \n",
       "..        ...         ...        ...             ...          ...   \n",
       "232       0.0   127426465        0.0             0.0    1641469.0   \n",
       "233       0.0   219637921        0.0             0.0    1548522.0   \n",
       "234       0.0   249768472        0.0             0.0    2069062.0   \n",
       "235   88929.0   693186371        0.0           886.1    6907147.0   \n",
       "236  653702.0    33554474        0.0           690.0      35411.0   \n",
       "\n",
       "     oneM_pop_test  total_test  \n",
       "0        2894810.0    164926.0  \n",
       "1          10579.0    329592.0  \n",
       "2           6470.0     23693.0  \n",
       "3           9759.0    254538.0  \n",
       "4         189943.0     18901.0  \n",
       "..             ...         ...  \n",
       "232            0.0         0.0  \n",
       "233            0.0         0.0  \n",
       "234            0.0         0.0  \n",
       "235            0.0         0.0  \n",
       "236       307892.0  15804065.0  \n",
       "\n",
       "[237 rows x 16 columns]"
      ]
     },
     "execution_count": 22,
     "metadata": {},
     "output_type": "execute_result"
    }
   ],
   "source": [
    "df"
   ]
  },
  {
   "cell_type": "code",
   "execution_count": 23,
   "id": "635f2177",
   "metadata": {},
   "outputs": [
    {
     "name": "stdout",
     "output_type": "stream",
     "text": [
      "<class 'pandas.core.frame.DataFrame'>\n",
      "RangeIndex: 237 entries, 0 to 236\n",
      "Data columns (total 16 columns):\n",
      " #   Column          Non-Null Count  Dtype              \n",
      "---  ------          --------------  -----              \n",
      " 0   continent       237 non-null    object             \n",
      " 1   country         237 non-null    object             \n",
      " 2   population      237 non-null    float64            \n",
      " 3   day             237 non-null    datetime64[ns]     \n",
      " 4   time            237 non-null    datetime64[ns, UTC]\n",
      " 5   new_case        237 non-null    float64            \n",
      " 6   active          237 non-null    float64            \n",
      " 7   critical        237 non-null    float64            \n",
      " 8   recovered       237 non-null    float64            \n",
      " 9   OneM_pop        237 non-null    float64            \n",
      " 10  total_case      237 non-null    int64              \n",
      " 11  new_death       237 non-null    float64            \n",
      " 12  oneM_pop_death  237 non-null    float64            \n",
      " 13  total_death     237 non-null    float64            \n",
      " 14  oneM_pop_test   237 non-null    float64            \n",
      " 15  total_test      237 non-null    float64            \n",
      "dtypes: datetime64[ns, UTC](1), datetime64[ns](1), float64(11), int64(1), object(2)\n",
      "memory usage: 29.8+ KB\n"
     ]
    }
   ],
   "source": [
    "df.info()"
   ]
  },
  {
   "cell_type": "code",
   "execution_count": 24,
   "id": "39df0fba",
   "metadata": {},
   "outputs": [],
   "source": [
    "df.to_csv('Covid19.csv', index=False)"
   ]
  },
  {
   "cell_type": "code",
   "execution_count": 25,
   "id": "6c35dee3",
   "metadata": {},
   "outputs": [],
   "source": [
    "df['continent']=df['continent'].replace(0,'Ship')"
   ]
  },
  {
   "cell_type": "code",
   "execution_count": 26,
   "id": "088055ca",
   "metadata": {},
   "outputs": [
    {
     "data": {
      "text/plain": [
       "array(['North-America', 'Asia', 'Africa', 'South-America', 'Ship',\n",
       "       'Europe', 'Oceania', 'All'], dtype=object)"
      ]
     },
     "execution_count": 26,
     "metadata": {},
     "output_type": "execute_result"
    }
   ],
   "source": [
    "df['continent'].unique()"
   ]
  },
  {
   "cell_type": "code",
   "execution_count": 27,
   "id": "65420753",
   "metadata": {
    "scrolled": true
   },
   "outputs": [
    {
     "data": {
      "text/html": [
       "<div>\n",
       "<style scoped>\n",
       "    .dataframe tbody tr th:only-of-type {\n",
       "        vertical-align: middle;\n",
       "    }\n",
       "\n",
       "    .dataframe tbody tr th {\n",
       "        vertical-align: top;\n",
       "    }\n",
       "\n",
       "    .dataframe thead th {\n",
       "        text-align: right;\n",
       "    }\n",
       "</style>\n",
       "<table border=\"1\" class=\"dataframe\">\n",
       "  <thead>\n",
       "    <tr style=\"text-align: right;\">\n",
       "      <th></th>\n",
       "      <th>continent</th>\n",
       "      <th>country</th>\n",
       "      <th>population</th>\n",
       "      <th>day</th>\n",
       "      <th>time</th>\n",
       "      <th>new_case</th>\n",
       "      <th>active</th>\n",
       "      <th>critical</th>\n",
       "      <th>recovered</th>\n",
       "      <th>OneM_pop</th>\n",
       "      <th>total_case</th>\n",
       "      <th>new_death</th>\n",
       "      <th>oneM_pop_death</th>\n",
       "      <th>total_death</th>\n",
       "      <th>oneM_pop_test</th>\n",
       "      <th>total_test</th>\n",
       "    </tr>\n",
       "  </thead>\n",
       "  <tbody>\n",
       "    <tr>\n",
       "      <th>0</th>\n",
       "      <td>North-America</td>\n",
       "      <td>Greenland</td>\n",
       "      <td>56973.0</td>\n",
       "      <td>2023-08-13</td>\n",
       "      <td>2023-08-13 01:45:09+00:00</td>\n",
       "      <td>0.0</td>\n",
       "      <td>9189.0</td>\n",
       "      <td>4.0</td>\n",
       "      <td>2761.0</td>\n",
       "      <td>210117.0</td>\n",
       "      <td>11971</td>\n",
       "      <td>0.0</td>\n",
       "      <td>369.0</td>\n",
       "      <td>21.0</td>\n",
       "      <td>2894810.0</td>\n",
       "      <td>164926.0</td>\n",
       "    </tr>\n",
       "    <tr>\n",
       "      <th>1</th>\n",
       "      <td>Asia</td>\n",
       "      <td>Yemen</td>\n",
       "      <td>31154867.0</td>\n",
       "      <td>2023-08-13</td>\n",
       "      <td>2023-08-13 01:45:09+00:00</td>\n",
       "      <td>0.0</td>\n",
       "      <td>662.0</td>\n",
       "      <td>23.0</td>\n",
       "      <td>9124.0</td>\n",
       "      <td>383.0</td>\n",
       "      <td>11945</td>\n",
       "      <td>0.0</td>\n",
       "      <td>69.0</td>\n",
       "      <td>2159.0</td>\n",
       "      <td>10579.0</td>\n",
       "      <td>329592.0</td>\n",
       "    </tr>\n",
       "    <tr>\n",
       "      <th>2</th>\n",
       "      <td>Africa</td>\n",
       "      <td>Eritrea</td>\n",
       "      <td>3662244.0</td>\n",
       "      <td>2023-08-13</td>\n",
       "      <td>2023-08-13 01:45:09+00:00</td>\n",
       "      <td>0.0</td>\n",
       "      <td>0.0</td>\n",
       "      <td>0.0</td>\n",
       "      <td>10086.0</td>\n",
       "      <td>2782.0</td>\n",
       "      <td>10189</td>\n",
       "      <td>0.0</td>\n",
       "      <td>28.0</td>\n",
       "      <td>103.0</td>\n",
       "      <td>6470.0</td>\n",
       "      <td>23693.0</td>\n",
       "    </tr>\n",
       "    <tr>\n",
       "      <th>3</th>\n",
       "      <td>Africa</td>\n",
       "      <td>Niger</td>\n",
       "      <td>26083660.0</td>\n",
       "      <td>2023-08-13</td>\n",
       "      <td>2023-08-13 01:45:09+00:00</td>\n",
       "      <td>0.0</td>\n",
       "      <td>729.0</td>\n",
       "      <td>1.0</td>\n",
       "      <td>8890.0</td>\n",
       "      <td>381.0</td>\n",
       "      <td>9931</td>\n",
       "      <td>0.0</td>\n",
       "      <td>12.0</td>\n",
       "      <td>312.0</td>\n",
       "      <td>9759.0</td>\n",
       "      <td>254538.0</td>\n",
       "    </tr>\n",
       "    <tr>\n",
       "      <th>4</th>\n",
       "      <td>North-America</td>\n",
       "      <td>Antigua-and-Barbuda</td>\n",
       "      <td>99509.0</td>\n",
       "      <td>2023-08-13</td>\n",
       "      <td>2023-08-13 01:45:09+00:00</td>\n",
       "      <td>0.0</td>\n",
       "      <td>6.0</td>\n",
       "      <td>1.0</td>\n",
       "      <td>8954.0</td>\n",
       "      <td>91509.0</td>\n",
       "      <td>9106</td>\n",
       "      <td>0.0</td>\n",
       "      <td>1467.0</td>\n",
       "      <td>146.0</td>\n",
       "      <td>189943.0</td>\n",
       "      <td>18901.0</td>\n",
       "    </tr>\n",
       "  </tbody>\n",
       "</table>\n",
       "</div>"
      ],
      "text/plain": [
       "       continent              country  population        day  \\\n",
       "0  North-America            Greenland     56973.0 2023-08-13   \n",
       "1           Asia                Yemen  31154867.0 2023-08-13   \n",
       "2         Africa              Eritrea   3662244.0 2023-08-13   \n",
       "3         Africa                Niger  26083660.0 2023-08-13   \n",
       "4  North-America  Antigua-and-Barbuda     99509.0 2023-08-13   \n",
       "\n",
       "                       time  new_case  active  critical  recovered  OneM_pop  \\\n",
       "0 2023-08-13 01:45:09+00:00       0.0  9189.0       4.0     2761.0  210117.0   \n",
       "1 2023-08-13 01:45:09+00:00       0.0   662.0      23.0     9124.0     383.0   \n",
       "2 2023-08-13 01:45:09+00:00       0.0     0.0       0.0    10086.0    2782.0   \n",
       "3 2023-08-13 01:45:09+00:00       0.0   729.0       1.0     8890.0     381.0   \n",
       "4 2023-08-13 01:45:09+00:00       0.0     6.0       1.0     8954.0   91509.0   \n",
       "\n",
       "   total_case  new_death  oneM_pop_death  total_death  oneM_pop_test  \\\n",
       "0       11971        0.0           369.0         21.0      2894810.0   \n",
       "1       11945        0.0            69.0       2159.0        10579.0   \n",
       "2       10189        0.0            28.0        103.0         6470.0   \n",
       "3        9931        0.0            12.0        312.0         9759.0   \n",
       "4        9106        0.0          1467.0        146.0       189943.0   \n",
       "\n",
       "   total_test  \n",
       "0    164926.0  \n",
       "1    329592.0  \n",
       "2     23693.0  \n",
       "3    254538.0  \n",
       "4     18901.0  "
      ]
     },
     "execution_count": 27,
     "metadata": {},
     "output_type": "execute_result"
    }
   ],
   "source": [
    "df.head()"
   ]
  },
  {
   "cell_type": "code",
   "execution_count": 28,
   "id": "eabcdab0",
   "metadata": {},
   "outputs": [],
   "source": [
    "con_popu=df[['country','population']]"
   ]
  },
  {
   "cell_type": "code",
   "execution_count": 29,
   "id": "b79f18c0",
   "metadata": {},
   "outputs": [],
   "source": [
    "con_popu= con_popu.sort_values(by='population',ascending=False)"
   ]
  },
  {
   "cell_type": "code",
   "execution_count": 30,
   "id": "5865d72d",
   "metadata": {},
   "outputs": [],
   "source": [
    "con_popu=con_popu.set_index('country')"
   ]
  },
  {
   "cell_type": "code",
   "execution_count": 31,
   "id": "6e94a6da",
   "metadata": {},
   "outputs": [
    {
     "data": {
      "text/html": [
       "<div>\n",
       "<style scoped>\n",
       "    .dataframe tbody tr th:only-of-type {\n",
       "        vertical-align: middle;\n",
       "    }\n",
       "\n",
       "    .dataframe tbody tr th {\n",
       "        vertical-align: top;\n",
       "    }\n",
       "\n",
       "    .dataframe thead th {\n",
       "        text-align: right;\n",
       "    }\n",
       "</style>\n",
       "<table border=\"1\" class=\"dataframe\">\n",
       "  <thead>\n",
       "    <tr style=\"text-align: right;\">\n",
       "      <th></th>\n",
       "      <th>population</th>\n",
       "    </tr>\n",
       "    <tr>\n",
       "      <th>country</th>\n",
       "      <th></th>\n",
       "    </tr>\n",
       "  </thead>\n",
       "  <tbody>\n",
       "    <tr>\n",
       "      <th>China</th>\n",
       "      <td>1.448471e+09</td>\n",
       "    </tr>\n",
       "    <tr>\n",
       "      <th>India</th>\n",
       "      <td>1.406632e+09</td>\n",
       "    </tr>\n",
       "    <tr>\n",
       "      <th>USA</th>\n",
       "      <td>3.348053e+08</td>\n",
       "    </tr>\n",
       "    <tr>\n",
       "      <th>Indonesia</th>\n",
       "      <td>2.791345e+08</td>\n",
       "    </tr>\n",
       "    <tr>\n",
       "      <th>Pakistan</th>\n",
       "      <td>2.294890e+08</td>\n",
       "    </tr>\n",
       "    <tr>\n",
       "      <th>Nigeria</th>\n",
       "      <td>2.167469e+08</td>\n",
       "    </tr>\n",
       "    <tr>\n",
       "      <th>Brazil</th>\n",
       "      <td>2.153536e+08</td>\n",
       "    </tr>\n",
       "    <tr>\n",
       "      <th>Bangladesh</th>\n",
       "      <td>1.678857e+08</td>\n",
       "    </tr>\n",
       "    <tr>\n",
       "      <th>Russia</th>\n",
       "      <td>1.458059e+08</td>\n",
       "    </tr>\n",
       "    <tr>\n",
       "      <th>Mexico</th>\n",
       "      <td>1.315628e+08</td>\n",
       "    </tr>\n",
       "    <tr>\n",
       "      <th>Japan</th>\n",
       "      <td>1.255848e+08</td>\n",
       "    </tr>\n",
       "    <tr>\n",
       "      <th>Ethiopia</th>\n",
       "      <td>1.208127e+08</td>\n",
       "    </tr>\n",
       "    <tr>\n",
       "      <th>Philippines</th>\n",
       "      <td>1.125090e+08</td>\n",
       "    </tr>\n",
       "    <tr>\n",
       "      <th>Egypt</th>\n",
       "      <td>1.061567e+08</td>\n",
       "    </tr>\n",
       "    <tr>\n",
       "      <th>Vietnam</th>\n",
       "      <td>9.895354e+07</td>\n",
       "    </tr>\n",
       "    <tr>\n",
       "      <th>DRC</th>\n",
       "      <td>9.524079e+07</td>\n",
       "    </tr>\n",
       "    <tr>\n",
       "      <th>Iran</th>\n",
       "      <td>8.602284e+07</td>\n",
       "    </tr>\n",
       "    <tr>\n",
       "      <th>Turkey</th>\n",
       "      <td>8.556198e+07</td>\n",
       "    </tr>\n",
       "    <tr>\n",
       "      <th>Germany</th>\n",
       "      <td>8.388360e+07</td>\n",
       "    </tr>\n",
       "    <tr>\n",
       "      <th>Thailand</th>\n",
       "      <td>7.007820e+07</td>\n",
       "    </tr>\n",
       "  </tbody>\n",
       "</table>\n",
       "</div>"
      ],
      "text/plain": [
       "               population\n",
       "country                  \n",
       "China        1.448471e+09\n",
       "India        1.406632e+09\n",
       "USA          3.348053e+08\n",
       "Indonesia    2.791345e+08\n",
       "Pakistan     2.294890e+08\n",
       "Nigeria      2.167469e+08\n",
       "Brazil       2.153536e+08\n",
       "Bangladesh   1.678857e+08\n",
       "Russia       1.458059e+08\n",
       "Mexico       1.315628e+08\n",
       "Japan        1.255848e+08\n",
       "Ethiopia     1.208127e+08\n",
       "Philippines  1.125090e+08\n",
       "Egypt        1.061567e+08\n",
       "Vietnam      9.895354e+07\n",
       "DRC          9.524079e+07\n",
       "Iran         8.602284e+07\n",
       "Turkey       8.556198e+07\n",
       "Germany      8.388360e+07\n",
       "Thailand     7.007820e+07"
      ]
     },
     "execution_count": 31,
     "metadata": {},
     "output_type": "execute_result"
    }
   ],
   "source": [
    "con_popu[:20]"
   ]
  },
  {
   "cell_type": "markdown",
   "id": "11e952f7",
   "metadata": {},
   "source": [
    "#### Here we can see the Total tested of country"
   ]
  },
  {
   "cell_type": "code",
   "execution_count": 32,
   "id": "204ccb16",
   "metadata": {
    "scrolled": true
   },
   "outputs": [
    {
     "data": {
      "image/png": "[encoded data removed]",
      "text/plain": [
       "<Figure size 640x480 with 1 Axes>"
      ]
     },
     "metadata": {},
     "output_type": "display_data"
    }
   ],
   "source": [
    "con_popu[:20].plot(kind='bar',color='red')\n",
    "plt.title('Top 20 tested Country')\n",
    "plt.xticks(rotation=45)\n",
    "plt.show()"
   ]
  },
  {
   "cell_type": "markdown",
   "id": "bcb33c02",
   "metadata": {},
   "source": [
    "#### I have collected some important Keys for our model which is important for us."
   ]
  },
  {
   "cell_type": "code",
   "execution_count": 33,
   "id": "7d963252",
   "metadata": {},
   "outputs": [],
   "source": [
    "df1=df[['population','total_death','total_test','active']]"
   ]
  },
  {
   "cell_type": "code",
   "execution_count": 34,
   "id": "99cfcfc3",
   "metadata": {},
   "outputs": [
    {
     "data": {
      "text/html": [
       "<div>\n",
       "<style scoped>\n",
       "    .dataframe tbody tr th:only-of-type {\n",
       "        vertical-align: middle;\n",
       "    }\n",
       "\n",
       "    .dataframe tbody tr th {\n",
       "        vertical-align: top;\n",
       "    }\n",
       "\n",
       "    .dataframe thead th {\n",
       "        text-align: right;\n",
       "    }\n",
       "</style>\n",
       "<table border=\"1\" class=\"dataframe\">\n",
       "  <thead>\n",
       "    <tr style=\"text-align: right;\">\n",
       "      <th></th>\n",
       "      <th>population</th>\n",
       "      <th>total_death</th>\n",
       "      <th>total_test</th>\n",
       "      <th>active</th>\n",
       "    </tr>\n",
       "  </thead>\n",
       "  <tbody>\n",
       "    <tr>\n",
       "      <th>0</th>\n",
       "      <td>56973.0</td>\n",
       "      <td>21.0</td>\n",
       "      <td>164926.0</td>\n",
       "      <td>9189.0</td>\n",
       "    </tr>\n",
       "    <tr>\n",
       "      <th>1</th>\n",
       "      <td>31154867.0</td>\n",
       "      <td>2159.0</td>\n",
       "      <td>329592.0</td>\n",
       "      <td>662.0</td>\n",
       "    </tr>\n",
       "    <tr>\n",
       "      <th>2</th>\n",
       "      <td>3662244.0</td>\n",
       "      <td>103.0</td>\n",
       "      <td>23693.0</td>\n",
       "      <td>0.0</td>\n",
       "    </tr>\n",
       "    <tr>\n",
       "      <th>3</th>\n",
       "      <td>26083660.0</td>\n",
       "      <td>312.0</td>\n",
       "      <td>254538.0</td>\n",
       "      <td>729.0</td>\n",
       "    </tr>\n",
       "    <tr>\n",
       "      <th>4</th>\n",
       "      <td>99509.0</td>\n",
       "      <td>146.0</td>\n",
       "      <td>18901.0</td>\n",
       "      <td>6.0</td>\n",
       "    </tr>\n",
       "    <tr>\n",
       "      <th>...</th>\n",
       "      <td>...</td>\n",
       "      <td>...</td>\n",
       "      <td>...</td>\n",
       "      <td>...</td>\n",
       "    </tr>\n",
       "    <tr>\n",
       "      <th>232</th>\n",
       "      <td>0.0</td>\n",
       "      <td>1641469.0</td>\n",
       "      <td>0.0</td>\n",
       "      <td>2471025.0</td>\n",
       "    </tr>\n",
       "    <tr>\n",
       "      <th>233</th>\n",
       "      <td>0.0</td>\n",
       "      <td>1548522.0</td>\n",
       "      <td>0.0</td>\n",
       "      <td>15122480.0</td>\n",
       "    </tr>\n",
       "    <tr>\n",
       "      <th>234</th>\n",
       "      <td>0.0</td>\n",
       "      <td>2069062.0</td>\n",
       "      <td>0.0</td>\n",
       "      <td>1785330.0</td>\n",
       "    </tr>\n",
       "    <tr>\n",
       "      <th>235</th>\n",
       "      <td>0.0</td>\n",
       "      <td>6907147.0</td>\n",
       "      <td>0.0</td>\n",
       "      <td>21027453.0</td>\n",
       "    </tr>\n",
       "    <tr>\n",
       "      <th>236</th>\n",
       "      <td>51329899.0</td>\n",
       "      <td>35411.0</td>\n",
       "      <td>15804065.0</td>\n",
       "      <td>563350.0</td>\n",
       "    </tr>\n",
       "  </tbody>\n",
       "</table>\n",
       "<p>237 rows × 4 columns</p>\n",
       "</div>"
      ],
      "text/plain": [
       "     population  total_death  total_test      active\n",
       "0       56973.0         21.0    164926.0      9189.0\n",
       "1    31154867.0       2159.0    329592.0       662.0\n",
       "2     3662244.0        103.0     23693.0         0.0\n",
       "3    26083660.0        312.0    254538.0       729.0\n",
       "4       99509.0        146.0     18901.0         6.0\n",
       "..          ...          ...         ...         ...\n",
       "232         0.0    1641469.0         0.0   2471025.0\n",
       "233         0.0    1548522.0         0.0  15122480.0\n",
       "234         0.0    2069062.0         0.0   1785330.0\n",
       "235         0.0    6907147.0         0.0  21027453.0\n",
       "236  51329899.0      35411.0  15804065.0    563350.0\n",
       "\n",
       "[237 rows x 4 columns]"
      ]
     },
     "execution_count": 34,
     "metadata": {},
     "output_type": "execute_result"
    }
   ],
   "source": [
    "df1"
   ]
  },
  {
   "cell_type": "code",
   "execution_count": 35,
   "id": "a2772108",
   "metadata": {},
   "outputs": [
    {
     "data": {
      "text/plain": [
       "population     0\n",
       "total_death    0\n",
       "total_test     0\n",
       "active         0\n",
       "dtype: int64"
      ]
     },
     "execution_count": 35,
     "metadata": {},
     "output_type": "execute_result"
    }
   ],
   "source": [
    "df1.isnull().sum()"
   ]
  },
  {
   "cell_type": "code",
   "execution_count": 36,
   "id": "2d84a175",
   "metadata": {
    "scrolled": true
   },
   "outputs": [
    {
     "data": {
      "text/html": [
       "<div>\n",
       "<style scoped>\n",
       "    .dataframe tbody tr th:only-of-type {\n",
       "        vertical-align: middle;\n",
       "    }\n",
       "\n",
       "    .dataframe tbody tr th {\n",
       "        vertical-align: top;\n",
       "    }\n",
       "\n",
       "    .dataframe thead th {\n",
       "        text-align: right;\n",
       "    }\n",
       "</style>\n",
       "<table border=\"1\" class=\"dataframe\">\n",
       "  <thead>\n",
       "    <tr style=\"text-align: right;\">\n",
       "      <th></th>\n",
       "      <th>count</th>\n",
       "      <th>mean</th>\n",
       "      <th>std</th>\n",
       "      <th>min</th>\n",
       "      <th>1%</th>\n",
       "      <th>2%</th>\n",
       "      <th>3%</th>\n",
       "      <th>50%</th>\n",
       "      <th>90%</th>\n",
       "      <th>92%</th>\n",
       "      <th>93%</th>\n",
       "      <th>94%</th>\n",
       "      <th>95%</th>\n",
       "      <th>96%</th>\n",
       "      <th>97%</th>\n",
       "      <th>98%</th>\n",
       "      <th>max</th>\n",
       "    </tr>\n",
       "  </thead>\n",
       "  <tbody>\n",
       "    <tr>\n",
       "      <th>population</th>\n",
       "      <td>237.0</td>\n",
       "      <td>3.323391e+07</td>\n",
       "      <td>1.364101e+08</td>\n",
       "      <td>0.0</td>\n",
       "      <td>0.0</td>\n",
       "      <td>0.00</td>\n",
       "      <td>0.00</td>\n",
       "      <td>5323993.0</td>\n",
       "      <td>57834240.6</td>\n",
       "      <td>71734850.16</td>\n",
       "      <td>85783189.28</td>\n",
       "      <td>98359501.16</td>\n",
       "      <td>114169734.8</td>\n",
       "      <td>1.289325e+08</td>\n",
       "      <td>1.661193e+08</td>\n",
       "      <td>2.203147e+08</td>\n",
       "      <td>1.448471e+09</td>\n",
       "    </tr>\n",
       "    <tr>\n",
       "      <th>total_death</th>\n",
       "      <td>237.0</td>\n",
       "      <td>8.646786e+04</td>\n",
       "      <td>5.041922e+05</td>\n",
       "      <td>0.0</td>\n",
       "      <td>0.0</td>\n",
       "      <td>0.72</td>\n",
       "      <td>1.08</td>\n",
       "      <td>2179.0</td>\n",
       "      <td>85686.0</td>\n",
       "      <td>122812.04</td>\n",
       "      <td>144572.36</td>\n",
       "      <td>166725.84</td>\n",
       "      <td>197167.2</td>\n",
       "      <td>3.011103e+05</td>\n",
       "      <td>5.213582e+05</td>\n",
       "      <td>1.224301e+06</td>\n",
       "      <td>6.907147e+06</td>\n",
       "    </tr>\n",
       "    <tr>\n",
       "      <th>total_test</th>\n",
       "      <td>237.0</td>\n",
       "      <td>2.732881e+07</td>\n",
       "      <td>1.089521e+08</td>\n",
       "      <td>0.0</td>\n",
       "      <td>0.0</td>\n",
       "      <td>0.00</td>\n",
       "      <td>0.00</td>\n",
       "      <td>1499795.0</td>\n",
       "      <td>47655186.8</td>\n",
       "      <td>66587909.56</td>\n",
       "      <td>78906403.72</td>\n",
       "      <td>98080749.40</td>\n",
       "      <td>115793612.0</td>\n",
       "      <td>1.464992e+08</td>\n",
       "      <td>1.976932e+08</td>\n",
       "      <td>2.720249e+08</td>\n",
       "      <td>1.181255e+09</td>\n",
       "    </tr>\n",
       "    <tr>\n",
       "      <th>active</th>\n",
       "      <td>237.0</td>\n",
       "      <td>2.079503e+05</td>\n",
       "      <td>1.691658e+06</td>\n",
       "      <td>0.0</td>\n",
       "      <td>0.0</td>\n",
       "      <td>0.00</td>\n",
       "      <td>0.00</td>\n",
       "      <td>498.0</td>\n",
       "      <td>73363.6</td>\n",
       "      <td>104984.28</td>\n",
       "      <td>117214.20</td>\n",
       "      <td>145255.48</td>\n",
       "      <td>377723.4</td>\n",
       "      <td>5.308930e+05</td>\n",
       "      <td>7.835699e+05</td>\n",
       "      <td>1.054351e+06</td>\n",
       "      <td>2.102745e+07</td>\n",
       "    </tr>\n",
       "  </tbody>\n",
       "</table>\n",
       "</div>"
      ],
      "text/plain": [
       "             count          mean           std  min   1%    2%    3%  \\\n",
       "population   237.0  3.323391e+07  1.364101e+08  0.0  0.0  0.00  0.00   \n",
       "total_death  237.0  8.646786e+04  5.041922e+05  0.0  0.0  0.72  1.08   \n",
       "total_test   237.0  2.732881e+07  1.089521e+08  0.0  0.0  0.00  0.00   \n",
       "active       237.0  2.079503e+05  1.691658e+06  0.0  0.0  0.00  0.00   \n",
       "\n",
       "                   50%         90%          92%          93%          94%  \\\n",
       "population   5323993.0  57834240.6  71734850.16  85783189.28  98359501.16   \n",
       "total_death     2179.0     85686.0    122812.04    144572.36    166725.84   \n",
       "total_test   1499795.0  47655186.8  66587909.56  78906403.72  98080749.40   \n",
       "active           498.0     73363.6    104984.28    117214.20    145255.48   \n",
       "\n",
       "                     95%           96%           97%           98%  \\\n",
       "population   114169734.8  1.289325e+08  1.661193e+08  2.203147e+08   \n",
       "total_death     197167.2  3.011103e+05  5.213582e+05  1.224301e+06   \n",
       "total_test   115793612.0  1.464992e+08  1.976932e+08  2.720249e+08   \n",
       "active          377723.4  5.308930e+05  7.835699e+05  1.054351e+06   \n",
       "\n",
       "                      max  \n",
       "population   1.448471e+09  \n",
       "total_death  6.907147e+06  \n",
       "total_test   1.181255e+09  \n",
       "active       2.102745e+07  "
      ]
     },
     "execution_count": 36,
     "metadata": {},
     "output_type": "execute_result"
    }
   ],
   "source": [
    "df1.describe(percentiles=[.01,.02,.03,.9,.92,.93,.94,.95,.96,.97,.98]).T"
   ]
  },
  {
   "cell_type": "code",
   "execution_count": 37,
   "id": "dec64352",
   "metadata": {},
   "outputs": [
    {
     "data": {
      "text/plain": [
       "(223, 4)"
      ]
     },
     "execution_count": 37,
     "metadata": {},
     "output_type": "execute_result"
    }
   ],
   "source": [
    "df1=df1[df1.population<100000000]\n",
    "df1.shape"
   ]
  },
  {
   "cell_type": "code",
   "execution_count": 38,
   "id": "41f4b540",
   "metadata": {
    "scrolled": true
   },
   "outputs": [
    {
     "data": {
      "text/plain": [
       "<AxesSubplot:xlabel='population'>"
      ]
     },
     "execution_count": 38,
     "metadata": {},
     "output_type": "execute_result"
    },
    {
     "data": {
      "image/png": "[encoded data removed]",
      "text/plain": [
       "<Figure size 640x480 with 1 Axes>"
      ]
     },
     "metadata": {},
     "output_type": "display_data"
    }
   ],
   "source": [
    "sns.boxenplot(data=df1, x='population')"
   ]
  },
  {
   "cell_type": "code",
   "execution_count": 39,
   "id": "0da1af95",
   "metadata": {},
   "outputs": [
    {
     "data": {
      "text/plain": [
       "<AxesSubplot:>"
      ]
     },
     "execution_count": 39,
     "metadata": {},
     "output_type": "execute_result"
    },
    {
     "data": {
      "image/png": "[encoded data removed]",
      "text/plain": [
       "<Figure size 640x480 with 2 Axes>"
      ]
     },
     "metadata": {},
     "output_type": "display_data"
    }
   ],
   "source": [
    "sns.heatmap(df1.corr(),annot=True, cmap=\"rainbow\")"
   ]
  },
  {
   "cell_type": "code",
   "execution_count": 40,
   "id": "4b71f49b",
   "metadata": {
    "scrolled": true
   },
   "outputs": [
    {
     "name": "stderr",
     "output_type": "stream",
     "text": [
      "C:\\Users\\Manish kumar\\anaconda\\lib\\site-packages\\seaborn\\distributions.py:2619: FutureWarning: `distplot` is a deprecated function and will be removed in a future version. Please adapt your code to use either `displot` (a figure-level function with similar flexibility) or `histplot` (an axes-level function for histograms).\n",
      "  warnings.warn(msg, FutureWarning)\n"
     ]
    },
    {
     "data": {
      "text/plain": [
       "<AxesSubplot:xlabel='total_death', ylabel='Density'>"
      ]
     },
     "execution_count": 40,
     "metadata": {},
     "output_type": "execute_result"
    },
    {
     "data": {
      "image/png": "[encoded data removed]",
      "text/plain": [
       "<Figure size 640x480 with 1 Axes>"
      ]
     },
     "metadata": {},
     "output_type": "display_data"
    }
   ],
   "source": [
    "sns.distplot(df1['total_death'])"
   ]
  },
  {
   "cell_type": "markdown",
   "id": "f0d77e60",
   "metadata": {},
   "source": [
    "#### Selecting target value"
   ]
  },
  {
   "cell_type": "code",
   "execution_count": 41,
   "id": "fb1161fb",
   "metadata": {},
   "outputs": [],
   "source": [
    "x=df1.drop(columns=['total_death'])\n",
    "y= df1['total_death']"
   ]
  },
  {
   "cell_type": "code",
   "execution_count": 42,
   "id": "7276c804",
   "metadata": {},
   "outputs": [],
   "source": [
    "x_train,x_test,y_train,y_test= train_test_split(x,y,test_size=.1,random_state=5)"
   ]
  },
  {
   "cell_type": "code",
   "execution_count": 43,
   "id": "b524b4c2",
   "metadata": {},
   "outputs": [],
   "source": [
    "scale= StandardScaler()"
   ]
  },
  {
   "cell_type": "code",
   "execution_count": 44,
   "id": "7e5acfc9",
   "metadata": {},
   "outputs": [],
   "source": [
    "x_train_scaled = scale.fit_transform(x_train)\n",
    "x_test_scaled = scale.transform(x_test)"
   ]
  },
  {
   "cell_type": "code",
   "execution_count": 45,
   "id": "b5775b00",
   "metadata": {},
   "outputs": [
    {
     "data": {
      "text/plain": [
       "LinearRegression()"
      ]
     },
     "execution_count": 45,
     "metadata": {},
     "output_type": "execute_result"
    }
   ],
   "source": [
    "lr = LinearRegression()\n",
    "lr.fit(x_train_scaled, y_train)"
   ]
  },
  {
   "cell_type": "code",
   "execution_count": 46,
   "id": "e31ca759",
   "metadata": {},
   "outputs": [
    {
     "data": {
      "text/plain": [
       "RandomForestRegressor()"
      ]
     },
     "execution_count": 46,
     "metadata": {},
     "output_type": "execute_result"
    }
   ],
   "source": [
    "rf=RandomForestRegressor()\n",
    "rf.fit(x_train_scaled,y_train)"
   ]
  },
  {
   "cell_type": "code",
   "execution_count": 47,
   "id": "d111915c",
   "metadata": {},
   "outputs": [
    {
     "data": {
      "text/plain": [
       "Lasso(alpha=0.01)"
      ]
     },
     "execution_count": 47,
     "metadata": {},
     "output_type": "execute_result"
    }
   ],
   "source": [
    "laso=Lasso(alpha=0.01)\n",
    "laso.fit(x_train_scaled,y_train)"
   ]
  },
  {
   "cell_type": "code",
   "execution_count": 48,
   "id": "fbd3fba6",
   "metadata": {},
   "outputs": [
    {
     "data": {
      "text/plain": [
       "Ridge()"
      ]
     },
     "execution_count": 48,
     "metadata": {},
     "output_type": "execute_result"
    }
   ],
   "source": [
    "ridge = Ridge(alpha=1.0) \n",
    "ridge.fit(x_train_scaled,y_train)"
   ]
  },
  {
   "cell_type": "code",
   "execution_count": 49,
   "id": "0e32b27c",
   "metadata": {},
   "outputs": [
    {
     "data": {
      "text/plain": [
       "SVR()"
      ]
     },
     "execution_count": 49,
     "metadata": {},
     "output_type": "execute_result"
    }
   ],
   "source": [
    "svr= SVR(kernel='rbf', C=1.0, epsilon=0.1)\n",
    "svr.fit(x_train_scaled,y_train)"
   ]
  },
  {
   "cell_type": "code",
   "execution_count": 50,
   "id": "63c43206",
   "metadata": {},
   "outputs": [
    {
     "data": {
      "text/plain": [
       "AdaBoostRegressor(base_estimator=RandomForestRegressor(), learning_rate=0.001)"
      ]
     },
     "execution_count": 50,
     "metadata": {},
     "output_type": "execute_result"
    }
   ],
   "source": [
    "ada= AdaBoostRegressor(learning_rate=0.001,base_estimator=rf)\n",
    "ada.fit(x_train_scaled,y_train)"
   ]
  },
  {
   "cell_type": "code",
   "execution_count": 51,
   "id": "36aaae1f",
   "metadata": {},
   "outputs": [],
   "source": [
    "variable_imp=pd.DataFrame({\"Var\": x_train.columns, \"imp\":rf.feature_importances_}).sort_values(by=\"imp\", ascending=False)"
   ]
  },
  {
   "cell_type": "code",
   "execution_count": 52,
   "id": "ad1fbe33",
   "metadata": {
    "scrolled": true
   },
   "outputs": [
    {
     "data": {
      "text/html": [
       "<div>\n",
       "<style scoped>\n",
       "    .dataframe tbody tr th:only-of-type {\n",
       "        vertical-align: middle;\n",
       "    }\n",
       "\n",
       "    .dataframe tbody tr th {\n",
       "        vertical-align: top;\n",
       "    }\n",
       "\n",
       "    .dataframe thead th {\n",
       "        text-align: right;\n",
       "    }\n",
       "</style>\n",
       "<table border=\"1\" class=\"dataframe\">\n",
       "  <thead>\n",
       "    <tr style=\"text-align: right;\">\n",
       "      <th></th>\n",
       "      <th>Var</th>\n",
       "      <th>imp</th>\n",
       "    </tr>\n",
       "  </thead>\n",
       "  <tbody>\n",
       "    <tr>\n",
       "      <th>2</th>\n",
       "      <td>active</td>\n",
       "      <td>0.952813</td>\n",
       "    </tr>\n",
       "    <tr>\n",
       "      <th>0</th>\n",
       "      <td>population</td>\n",
       "      <td>0.025774</td>\n",
       "    </tr>\n",
       "    <tr>\n",
       "      <th>1</th>\n",
       "      <td>total_test</td>\n",
       "      <td>0.021414</td>\n",
       "    </tr>\n",
       "  </tbody>\n",
       "</table>\n",
       "</div>"
      ],
      "text/plain": [
       "          Var       imp\n",
       "2      active  0.952813\n",
       "0  population  0.025774\n",
       "1  total_test  0.021414"
      ]
     },
     "execution_count": 52,
     "metadata": {},
     "output_type": "execute_result"
    }
   ],
   "source": [
    "variable_imp"
   ]
  },
  {
   "cell_type": "markdown",
   "id": "2154bb1e",
   "metadata": {},
   "source": [
    "#### Model Evaluation"
   ]
  },
  {
   "cell_type": "code",
   "execution_count": 53,
   "id": "e4467c6e",
   "metadata": {},
   "outputs": [],
   "source": [
    "def eval(model, xtrain, ytrain, xtest, ytest):\n",
    "    acc=model.score(xtrain, ytrain)\n",
    "    pred_train=model.predict(xtrain)\n",
    "    rmse_train = np.sqrt(mean_squared_error(ytrain, pred_train))\n",
    "    mse_train = mean_squared_error(ytrain, pred_train)\n",
    "    mae_train = mean_absolute_error(ytrain, pred_train)\n",
    "   \n",
    "    acctest=model.score(xtest, ytest)\n",
    "    pred_test=model.predict(xtest)\n",
    "    rmse_test = np.sqrt(mean_squared_error(ytest, pred_test))\n",
    "    mse_test = mean_squared_error(ytest, pred_test)\n",
    "    mae_test = mean_absolute_error(ytest, pred_test)\n",
    "    r2 = r2_score(ytest, pred_test)\n",
    "    final={\"train_accuracy\":acc, \"test_accuracy\":acctest, \"rmse_train\":rmse_train,\"rmse_test\":rmse_test,\n",
    "           \"mse_train\":mse_train,\"mse_test\":mse_test,\"mse_train\":mae_train,\"mse_test\":mse_test,\"mae_train\":mae_train,\n",
    "           \"mse_test\":mae_test,\"R Square\":r2\n",
    "          }\n",
    "    return final"
   ]
  },
  {
   "cell_type": "code",
   "execution_count": 54,
   "id": "5811b6e3",
   "metadata": {},
   "outputs": [],
   "source": [
    "Lr=pd.DataFrame(eval(lr,x_train_scaled,y_train,x_test_scaled,y_test),index=['LinearRegressior'])"
   ]
  },
  {
   "cell_type": "code",
   "execution_count": 55,
   "id": "67d79e9c",
   "metadata": {},
   "outputs": [],
   "source": [
    "Rf=pd.DataFrame(eval(rf,x_train_scaled,y_train,x_test_scaled,y_test),index=['RandomForest'])"
   ]
  },
  {
   "cell_type": "code",
   "execution_count": 56,
   "id": "05c0835b",
   "metadata": {},
   "outputs": [],
   "source": [
    "Laso=pd.DataFrame(eval(laso,x_train_scaled,y_train,x_test_scaled,y_test),index=['Laso'])"
   ]
  },
  {
   "cell_type": "code",
   "execution_count": 57,
   "id": "5b45e40a",
   "metadata": {},
   "outputs": [],
   "source": [
    "Ridge=pd.DataFrame(eval(ridge,x_train_scaled,y_train,x_test_scaled,y_test),index=['Ridge'])"
   ]
  },
  {
   "cell_type": "code",
   "execution_count": 58,
   "id": "be852aa5",
   "metadata": {},
   "outputs": [],
   "source": [
    "SVR=pd.DataFrame(eval(svr,x_train_scaled,y_train,x_test_scaled,y_test),index=['SVR'])"
   ]
  },
  {
   "cell_type": "code",
   "execution_count": 59,
   "id": "6c0a6c24",
   "metadata": {},
   "outputs": [],
   "source": [
    "Ada=pd.DataFrame(eval(svr,x_train_scaled,y_train,x_test_scaled,y_test),index=['Adaboost'])"
   ]
  },
  {
   "cell_type": "code",
   "execution_count": 60,
   "id": "19aafcf1",
   "metadata": {},
   "outputs": [
    {
     "data": {
      "text/html": [
       "<style type=\"text/css\">\n",
       "#T_4c5dd_row0_col1, #T_4c5dd_row0_col7, #T_4c5dd_row1_col0, #T_4c5dd_row3_col5, #T_4c5dd_row4_col2, #T_4c5dd_row4_col3, #T_4c5dd_row4_col4, #T_4c5dd_row4_col6, #T_4c5dd_row5_col2, #T_4c5dd_row5_col3, #T_4c5dd_row5_col4, #T_4c5dd_row5_col6 {\n",
       "  background-color: green;\n",
       "}\n",
       "</style>\n",
       "<table id=\"T_4c5dd\">\n",
       "  <thead>\n",
       "    <tr>\n",
       "      <th class=\"blank level0\" >&nbsp;</th>\n",
       "      <th id=\"T_4c5dd_level0_col0\" class=\"col_heading level0 col0\" >train_accuracy</th>\n",
       "      <th id=\"T_4c5dd_level0_col1\" class=\"col_heading level0 col1\" >test_accuracy</th>\n",
       "      <th id=\"T_4c5dd_level0_col2\" class=\"col_heading level0 col2\" >rmse_train</th>\n",
       "      <th id=\"T_4c5dd_level0_col3\" class=\"col_heading level0 col3\" >rmse_test</th>\n",
       "      <th id=\"T_4c5dd_level0_col4\" class=\"col_heading level0 col4\" >mse_train</th>\n",
       "      <th id=\"T_4c5dd_level0_col5\" class=\"col_heading level0 col5\" >mse_test</th>\n",
       "      <th id=\"T_4c5dd_level0_col6\" class=\"col_heading level0 col6\" >mae_train</th>\n",
       "      <th id=\"T_4c5dd_level0_col7\" class=\"col_heading level0 col7\" >R Square</th>\n",
       "    </tr>\n",
       "  </thead>\n",
       "  <tbody>\n",
       "    <tr>\n",
       "      <th id=\"T_4c5dd_level0_row0\" class=\"row_heading level0 row0\" >LinearRegressior</th>\n",
       "      <td id=\"T_4c5dd_row0_col0\" class=\"data row0 col0\" >0.780524</td>\n",
       "      <td id=\"T_4c5dd_row0_col1\" class=\"data row0 col1\" >0.375686</td>\n",
       "      <td id=\"T_4c5dd_row0_col2\" class=\"data row0 col2\" >251982.880291</td>\n",
       "      <td id=\"T_4c5dd_row0_col3\" class=\"data row0 col3\" >41418.828827</td>\n",
       "      <td id=\"T_4c5dd_row0_col4\" class=\"data row0 col4\" >62068.870266</td>\n",
       "      <td id=\"T_4c5dd_row0_col5\" class=\"data row0 col5\" >27972.469567</td>\n",
       "      <td id=\"T_4c5dd_row0_col6\" class=\"data row0 col6\" >62068.870266</td>\n",
       "      <td id=\"T_4c5dd_row0_col7\" class=\"data row0 col7\" >0.375686</td>\n",
       "    </tr>\n",
       "    <tr>\n",
       "      <th id=\"T_4c5dd_level0_row1\" class=\"row_heading level0 row1\" >RandomForest</th>\n",
       "      <td id=\"T_4c5dd_row1_col0\" class=\"data row1 col0\" >0.920028</td>\n",
       "      <td id=\"T_4c5dd_row1_col1\" class=\"data row1 col1\" >0.283542</td>\n",
       "      <td id=\"T_4c5dd_row1_col2\" class=\"data row1 col2\" >152106.261348</td>\n",
       "      <td id=\"T_4c5dd_row1_col3\" class=\"data row1 col3\" >44370.222398</td>\n",
       "      <td id=\"T_4c5dd_row1_col4\" class=\"data row1 col4\" >23591.388119</td>\n",
       "      <td id=\"T_4c5dd_row1_col5\" class=\"data row1 col5\" >12099.127681</td>\n",
       "      <td id=\"T_4c5dd_row1_col6\" class=\"data row1 col6\" >23591.388119</td>\n",
       "      <td id=\"T_4c5dd_row1_col7\" class=\"data row1 col7\" >0.283542</td>\n",
       "    </tr>\n",
       "    <tr>\n",
       "      <th id=\"T_4c5dd_level0_row2\" class=\"row_heading level0 row2\" >Laso</th>\n",
       "      <td id=\"T_4c5dd_row2_col0\" class=\"data row2 col0\" >0.780524</td>\n",
       "      <td id=\"T_4c5dd_row2_col1\" class=\"data row2 col1\" >0.375686</td>\n",
       "      <td id=\"T_4c5dd_row2_col2\" class=\"data row2 col2\" >251982.880291</td>\n",
       "      <td id=\"T_4c5dd_row2_col3\" class=\"data row2 col3\" >41418.833849</td>\n",
       "      <td id=\"T_4c5dd_row2_col4\" class=\"data row2 col4\" >62068.869852</td>\n",
       "      <td id=\"T_4c5dd_row2_col5\" class=\"data row2 col5\" >27972.472223</td>\n",
       "      <td id=\"T_4c5dd_row2_col6\" class=\"data row2 col6\" >62068.869852</td>\n",
       "      <td id=\"T_4c5dd_row2_col7\" class=\"data row2 col7\" >0.375686</td>\n",
       "    </tr>\n",
       "    <tr>\n",
       "      <th id=\"T_4c5dd_level0_row3\" class=\"row_heading level0 row3\" >Ridge</th>\n",
       "      <td id=\"T_4c5dd_row3_col0\" class=\"data row3 col0\" >0.780504</td>\n",
       "      <td id=\"T_4c5dd_row3_col1\" class=\"data row3 col1\" >0.373103</td>\n",
       "      <td id=\"T_4c5dd_row3_col2\" class=\"data row3 col2\" >251994.033062</td>\n",
       "      <td id=\"T_4c5dd_row3_col3\" class=\"data row3 col3\" >41504.424057</td>\n",
       "      <td id=\"T_4c5dd_row3_col4\" class=\"data row3 col4\" >62380.210754</td>\n",
       "      <td id=\"T_4c5dd_row3_col5\" class=\"data row3 col5\" >28265.318004</td>\n",
       "      <td id=\"T_4c5dd_row3_col6\" class=\"data row3 col6\" >62380.210754</td>\n",
       "      <td id=\"T_4c5dd_row3_col7\" class=\"data row3 col7\" >0.373103</td>\n",
       "    </tr>\n",
       "    <tr>\n",
       "      <th id=\"T_4c5dd_level0_row4\" class=\"row_heading level0 row4\" >SVR</th>\n",
       "      <td id=\"T_4c5dd_row4_col0\" class=\"data row4 col0\" >-0.022639</td>\n",
       "      <td id=\"T_4c5dd_row4_col1\" class=\"data row4 col1\" >-0.079277</td>\n",
       "      <td id=\"T_4c5dd_row4_col2\" class=\"data row4 col2\" >543924.161327</td>\n",
       "      <td id=\"T_4c5dd_row4_col3\" class=\"data row4 col3\" >54458.121205</td>\n",
       "      <td id=\"T_4c5dd_row4_col4\" class=\"data row4 col4\" >82381.117434</td>\n",
       "      <td id=\"T_4c5dd_row4_col5\" class=\"data row4 col5\" >16780.905932</td>\n",
       "      <td id=\"T_4c5dd_row4_col6\" class=\"data row4 col6\" >82381.117434</td>\n",
       "      <td id=\"T_4c5dd_row4_col7\" class=\"data row4 col7\" >-0.079277</td>\n",
       "    </tr>\n",
       "    <tr>\n",
       "      <th id=\"T_4c5dd_level0_row5\" class=\"row_heading level0 row5\" >Adaboost</th>\n",
       "      <td id=\"T_4c5dd_row5_col0\" class=\"data row5 col0\" >-0.022639</td>\n",
       "      <td id=\"T_4c5dd_row5_col1\" class=\"data row5 col1\" >-0.079277</td>\n",
       "      <td id=\"T_4c5dd_row5_col2\" class=\"data row5 col2\" >543924.161327</td>\n",
       "      <td id=\"T_4c5dd_row5_col3\" class=\"data row5 col3\" >54458.121205</td>\n",
       "      <td id=\"T_4c5dd_row5_col4\" class=\"data row5 col4\" >82381.117434</td>\n",
       "      <td id=\"T_4c5dd_row5_col5\" class=\"data row5 col5\" >16780.905932</td>\n",
       "      <td id=\"T_4c5dd_row5_col6\" class=\"data row5 col6\" >82381.117434</td>\n",
       "      <td id=\"T_4c5dd_row5_col7\" class=\"data row5 col7\" >-0.079277</td>\n",
       "    </tr>\n",
       "  </tbody>\n",
       "</table>\n"
      ],
      "text/plain": [
       "<pandas.io.formats.style.Styler at 0x1d409bbb970>"
      ]
     },
     "execution_count": 60,
     "metadata": {},
     "output_type": "execute_result"
    }
   ],
   "source": [
    "final=pd.concat([Lr, Rf, Laso,Ridge,SVR,Ada])\n",
    "final.style.highlight_max(color=\"green\")"
   ]
  },
  {
   "cell_type": "markdown",
   "id": "6e107b88",
   "metadata": {},
   "source": [
    "#### I have selected Regression model because our Target variable is continuous. And i have only few data so our model. "
   ]
  },
  {
   "cell_type": "code",
   "execution_count": null,
   "id": "f45ccb35",
   "metadata": {},
   "outputs": [],
   "source": []
  }
 ],
 "metadata": {
  "kernelspec": {
   "display_name": "Python 3 (ipykernel)",
   "language": "python",
   "name": "python3"
  },
  "language_info": {
   "codemirror_mode": {
    "name": "ipython",
    "version": 3
   },
   "file_extension": ".py",
   "mimetype": "text/x-python",
   "name": "python",
   "nbconvert_exporter": "python",
   "pygments_lexer": "ipython3",
   "version": "3.9.13"
  }
 },
 "nbformat": 4,
 "nbformat_minor": 5
}
